{
 "cells": [
  {
   "cell_type": "code",
   "id": "initial_id",
   "metadata": {
    "collapsed": true,
    "ExecuteTime": {
     "end_time": "2024-10-03T17:06:08.217559Z",
     "start_time": "2024-10-03T17:06:07.938687Z"
    }
   },
   "source": [
    "import pandas as pd\n",
    "import numpy as np\n",
    "import matplotlib.pyplot as plt\n",
    "import cv2\n",
    "import os\n",
    "import albumentations as A\n",
    "import torch\n",
    "from torch.utils.data import Dataset, DataLoader"
   ],
   "outputs": [],
   "execution_count": 2
  },
  {
   "metadata": {
    "ExecuteTime": {
     "end_time": "2024-10-03T17:48:24.523634Z",
     "start_time": "2024-10-03T17:48:24.469128Z"
    }
   },
   "cell_type": "code",
   "source": [
    "data=pd.read_csv('data/complete_train.csv')\n",
    "print(data.head())\n",
    "data_desc=pd.read_csv('data/train_series_descriptions.csv')"
   ],
   "id": "b7151147f474e8d2",
   "outputs": [
    {
     "name": "stdout",
     "output_type": "stream",
     "text": [
      "   study_id  series_id  instance_number              condition  level  \\\n",
      "0   4003253  702807833                8  Spinal Canal Stenosis  L1/L2   \n",
      "1   4003253  702807833                8  Spinal Canal Stenosis  L2/L3   \n",
      "2   4003253  702807833                8  Spinal Canal Stenosis  L3/L4   \n",
      "3   4003253  702807833                8  Spinal Canal Stenosis  L4/L5   \n",
      "4   4003253  702807833                8  Spinal Canal Stenosis  L5/S1   \n",
      "\n",
      "            x           y          image_file_path       output  \n",
      "0  322.831858  227.964602  4003253_702807833_8.dcm  Normal/Mild  \n",
      "1  320.571429  295.714286  4003253_702807833_8.dcm  Normal/Mild  \n",
      "2  323.030303  371.818182  4003253_702807833_8.dcm  Normal/Mild  \n",
      "3  335.292035  427.327434  4003253_702807833_8.dcm  Normal/Mild  \n",
      "4  353.415929  483.964602  4003253_702807833_8.dcm  Normal/Mild  \n"
     ]
    }
   ],
   "execution_count": 5
  },
  {
   "metadata": {
    "ExecuteTime": {
     "end_time": "2024-10-03T17:52:22.374232Z",
     "start_time": "2024-10-03T17:52:22.351607Z"
    }
   },
   "cell_type": "code",
   "source": [
    "merge_df=pd.merge(data,data_desc,on='series_id',how='inner')\n",
    "filter_df=merge_df[merge_df['series_description']=='Sagittal T2/STIR']\n",
    "path_df=filter_df[['image_file_path']].copy()\n",
    "print(path_df)"
   ],
   "id": "9a6a3453a2c3ba97",
   "outputs": [
    {
     "name": "stdout",
     "output_type": "stream",
     "text": [
      "                   image_file_path\n",
      "0          4003253_702807833_8.dcm\n",
      "1          4003253_702807833_8.dcm\n",
      "2          4003253_702807833_8.dcm\n",
      "3          4003253_702807833_8.dcm\n",
      "4          4003253_702807833_8.dcm\n",
      "...                            ...\n",
      "48667  4290709089_3274612423_9.dcm\n",
      "48668  4290709089_3274612423_9.dcm\n",
      "48669  4290709089_3274612423_9.dcm\n",
      "48670  4290709089_3274612423_9.dcm\n",
      "48671  4290709089_3274612423_9.dcm\n",
      "\n",
      "[9748 rows x 1 columns]\n"
     ]
    }
   ],
   "execution_count": 8
  },
  {
   "metadata": {},
   "cell_type": "markdown",
   "source": "# datasat",
   "id": "4de1ed0e1eb82f92"
  },
  {
   "metadata": {},
   "cell_type": "code",
   "outputs": [],
   "execution_count": null,
   "source": [
    "class SpineDataset(Dataset):\n",
    "    def __init__(self, df, transforms=None):\n",
    "        self.df = df\n",
    "        self.transforms = transforms\n",
    "    \n",
    "    def __len__(self):\n",
    "        return len(self.df)\n",
    "    \n",
    "    def __getitem__(self, index):\n",
    "        img = load_img(self.df.iloc[index]['image_path'])\n",
    "        \n",
    "        # 动态生成mask\n",
    "        row = self.df.iloc[index]\n",
    "        mask = generate_mask(row)  # 根据图像信息实时生成mask\n",
    "        \n",
    "        if self.transforms:\n",
    "            augmented = self.transforms(image=img, mask=mask)\n",
    "            img, mask = augmented['image'], augmented['mask']\n",
    "        \n",
    "        return img, mask\n"
   ],
   "id": "6f298dd15c94f3b6"
  }
 ],
 "metadata": {
  "kernelspec": {
   "display_name": "Python 3",
   "language": "python",
   "name": "python3"
  },
  "language_info": {
   "codemirror_mode": {
    "name": "ipython",
    "version": 2
   },
   "file_extension": ".py",
   "mimetype": "text/x-python",
   "name": "python",
   "nbconvert_exporter": "python",
   "pygments_lexer": "ipython2",
   "version": "2.7.6"
  }
 },
 "nbformat": 4,
 "nbformat_minor": 5
}
