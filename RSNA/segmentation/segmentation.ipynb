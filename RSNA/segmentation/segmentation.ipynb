{
 "cells": [
  {
   "cell_type": "code",
   "id": "initial_id",
   "metadata": {
    "collapsed": true,
    "ExecuteTime": {
     "end_time": "2024-10-03T17:06:08.217559Z",
     "start_time": "2024-10-03T17:06:07.938687Z"
    }
   },
   "source": "import pandas as pd",
   "outputs": [],
   "execution_count": 2
  },
  {
   "metadata": {
    "ExecuteTime": {
     "end_time": "2024-10-03T17:06:19.980076Z",
     "start_time": "2024-10-03T17:06:19.927526Z"
    }
   },
   "cell_type": "code",
   "source": [
    "data=pd.read_csv('data/complete_train.csv')\n",
    "print(data.head())"
   ],
   "id": "b7151147f474e8d2",
   "outputs": [
    {
     "name": "stdout",
     "output_type": "stream",
     "text": [
      "   study_id  series_id  instance_number              condition  level  \\\n",
      "0   4003253  702807833                8  Spinal Canal Stenosis  L1/L2   \n",
      "1   4003253  702807833                8  Spinal Canal Stenosis  L2/L3   \n",
      "2   4003253  702807833                8  Spinal Canal Stenosis  L3/L4   \n",
      "3   4003253  702807833                8  Spinal Canal Stenosis  L4/L5   \n",
      "4   4003253  702807833                8  Spinal Canal Stenosis  L5/S1   \n",
      "\n",
      "            x           y          image_file_path       output  \n",
      "0  322.831858  227.964602  4003253_702807833_8.dcm  Normal/Mild  \n",
      "1  320.571429  295.714286  4003253_702807833_8.dcm  Normal/Mild  \n",
      "2  323.030303  371.818182  4003253_702807833_8.dcm  Normal/Mild  \n",
      "3  335.292035  427.327434  4003253_702807833_8.dcm  Normal/Mild  \n",
      "4  353.415929  483.964602  4003253_702807833_8.dcm  Normal/Mild  \n"
     ]
    }
   ],
   "execution_count": 4
  },
  {
   "metadata": {},
   "cell_type": "code",
   "outputs": [],
   "execution_count": null,
   "source": "",
   "id": "6f298dd15c94f3b6"
  }
 ],
 "metadata": {
  "kernelspec": {
   "display_name": "Python 3",
   "language": "python",
   "name": "python3"
  },
  "language_info": {
   "codemirror_mode": {
    "name": "ipython",
    "version": 2
   },
   "file_extension": ".py",
   "mimetype": "text/x-python",
   "name": "python",
   "nbconvert_exporter": "python",
   "pygments_lexer": "ipython2",
   "version": "2.7.6"
  }
 },
 "nbformat": 4,
 "nbformat_minor": 5
}
